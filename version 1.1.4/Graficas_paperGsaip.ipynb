{
 "cells": [
  {
   "cell_type": "code",
   "execution_count": 1,
   "metadata": {},
   "outputs": [],
   "source": [
    "import matplotlib.pyplot as plt\n",
    "import numpy as np\n",
    "import pandas as pd\n",
    "from matplotlib import style\n",
    "style.use('ggplot')\n",
    "import re"
   ]
  },
  {
   "cell_type": "code",
   "execution_count": 2,
   "metadata": {},
   "outputs": [],
   "source": [
    "num_cores=[2,4,8,16,32,56,64,96,120]"
   ]
  },
  {
   "cell_type": "code",
   "execution_count": 3,
   "metadata": {},
   "outputs": [
    {
     "name": "stdout",
     "output_type": "stream",
     "text": [
      "[507.4, 355.3, 312.8, 286.4, 278.2, 221.4, 205.0, 317.8, 329.1]\n"
     ]
    }
   ],
   "source": [
    "# Extracting times per run for each file (Thread number)\n",
    "prom=[]\n",
    "data = dict()\n",
    "for i in num_cores:\n",
    "    file=open(\"Run\"+str(i)+\".out\")\n",
    "    data[str(i)]=[]\n",
    "    for line in file:\n",
    "        if line.startswith('Run'):\n",
    "            data[str(i)].append(int(line.split()[-2]))\n",
    "    prom.append(np.mean(data[str(i)]))\n",
    "    file.close()\n",
    "print(prom)\n",
    "        "
   ]
  },
  {
   "cell_type": "code",
   "execution_count": 4,
   "metadata": {},
   "outputs": [
    {
     "data": {
      "text/html": [
       "<div>\n",
       "<style scoped>\n",
       "    .dataframe tbody tr th:only-of-type {\n",
       "        vertical-align: middle;\n",
       "    }\n",
       "\n",
       "    .dataframe tbody tr th {\n",
       "        vertical-align: top;\n",
       "    }\n",
       "\n",
       "    .dataframe thead th {\n",
       "        text-align: right;\n",
       "    }\n",
       "</style>\n",
       "<table border=\"1\" class=\"dataframe\">\n",
       "  <thead>\n",
       "    <tr style=\"text-align: right;\">\n",
       "      <th></th>\n",
       "      <th>2</th>\n",
       "      <th>4</th>\n",
       "      <th>8</th>\n",
       "      <th>16</th>\n",
       "      <th>32</th>\n",
       "      <th>56</th>\n",
       "      <th>64</th>\n",
       "      <th>96</th>\n",
       "      <th>120</th>\n",
       "    </tr>\n",
       "  </thead>\n",
       "  <tbody>\n",
       "    <tr>\n",
       "      <th>0</th>\n",
       "      <td>461</td>\n",
       "      <td>314</td>\n",
       "      <td>274</td>\n",
       "      <td>259</td>\n",
       "      <td>250</td>\n",
       "      <td>221</td>\n",
       "      <td>188</td>\n",
       "      <td>309</td>\n",
       "      <td>331</td>\n",
       "    </tr>\n",
       "    <tr>\n",
       "      <th>1</th>\n",
       "      <td>483</td>\n",
       "      <td>320</td>\n",
       "      <td>272</td>\n",
       "      <td>264</td>\n",
       "      <td>261</td>\n",
       "      <td>228</td>\n",
       "      <td>190</td>\n",
       "      <td>298</td>\n",
       "      <td>325</td>\n",
       "    </tr>\n",
       "    <tr>\n",
       "      <th>2</th>\n",
       "      <td>464</td>\n",
       "      <td>338</td>\n",
       "      <td>279</td>\n",
       "      <td>263</td>\n",
       "      <td>261</td>\n",
       "      <td>218</td>\n",
       "      <td>193</td>\n",
       "      <td>305</td>\n",
       "      <td>318</td>\n",
       "    </tr>\n",
       "    <tr>\n",
       "      <th>3</th>\n",
       "      <td>436</td>\n",
       "      <td>333</td>\n",
       "      <td>274</td>\n",
       "      <td>264</td>\n",
       "      <td>259</td>\n",
       "      <td>219</td>\n",
       "      <td>184</td>\n",
       "      <td>303</td>\n",
       "      <td>323</td>\n",
       "    </tr>\n",
       "    <tr>\n",
       "      <th>4</th>\n",
       "      <td>419</td>\n",
       "      <td>310</td>\n",
       "      <td>277</td>\n",
       "      <td>268</td>\n",
       "      <td>265</td>\n",
       "      <td>219</td>\n",
       "      <td>185</td>\n",
       "      <td>309</td>\n",
       "      <td>311</td>\n",
       "    </tr>\n",
       "    <tr>\n",
       "      <th>5</th>\n",
       "      <td>585</td>\n",
       "      <td>458</td>\n",
       "      <td>402</td>\n",
       "      <td>313</td>\n",
       "      <td>301</td>\n",
       "      <td>227</td>\n",
       "      <td>223</td>\n",
       "      <td>347</td>\n",
       "      <td>336</td>\n",
       "    </tr>\n",
       "    <tr>\n",
       "      <th>6</th>\n",
       "      <td>568</td>\n",
       "      <td>397</td>\n",
       "      <td>333</td>\n",
       "      <td>328</td>\n",
       "      <td>316</td>\n",
       "      <td>223</td>\n",
       "      <td>221</td>\n",
       "      <td>332</td>\n",
       "      <td>335</td>\n",
       "    </tr>\n",
       "    <tr>\n",
       "      <th>7</th>\n",
       "      <td>562</td>\n",
       "      <td>370</td>\n",
       "      <td>344</td>\n",
       "      <td>332</td>\n",
       "      <td>317</td>\n",
       "      <td>218</td>\n",
       "      <td>224</td>\n",
       "      <td>329</td>\n",
       "      <td>331</td>\n",
       "    </tr>\n",
       "    <tr>\n",
       "      <th>8</th>\n",
       "      <td>549</td>\n",
       "      <td>379</td>\n",
       "      <td>333</td>\n",
       "      <td>307</td>\n",
       "      <td>297</td>\n",
       "      <td>221</td>\n",
       "      <td>221</td>\n",
       "      <td>326</td>\n",
       "      <td>331</td>\n",
       "    </tr>\n",
       "    <tr>\n",
       "      <th>9</th>\n",
       "      <td>547</td>\n",
       "      <td>334</td>\n",
       "      <td>340</td>\n",
       "      <td>266</td>\n",
       "      <td>255</td>\n",
       "      <td>220</td>\n",
       "      <td>221</td>\n",
       "      <td>320</td>\n",
       "      <td>350</td>\n",
       "    </tr>\n",
       "  </tbody>\n",
       "</table>\n",
       "</div>"
      ],
      "text/plain": [
       "     2    4    8   16   32   56   64   96  120\n",
       "0  461  314  274  259  250  221  188  309  331\n",
       "1  483  320  272  264  261  228  190  298  325\n",
       "2  464  338  279  263  261  218  193  305  318\n",
       "3  436  333  274  264  259  219  184  303  323\n",
       "4  419  310  277  268  265  219  185  309  311\n",
       "5  585  458  402  313  301  227  223  347  336\n",
       "6  568  397  333  328  316  223  221  332  335\n",
       "7  562  370  344  332  317  218  224  329  331\n",
       "8  549  379  333  307  297  221  221  326  331\n",
       "9  547  334  340  266  255  220  221  320  350"
      ]
     },
     "execution_count": 4,
     "metadata": {},
     "output_type": "execute_result"
    }
   ],
   "source": [
    "df = pd.DataFrame (data)\n",
    "df.to_csv(r'Execution_table.csv', index = True)\n",
    "df"
   ]
  },
  {
   "cell_type": "code",
   "execution_count": 5,
   "metadata": {},
   "outputs": [
    {
     "data": {
      "image/png": "[encoded data removed]",
      "text/plain": [
       "<Figure size 864x360 with 1 Axes>"
      ]
     },
     "metadata": {},
     "output_type": "display_data"
    },
    {
     "data": {
      "text/plain": [
       "<Figure size 432x288 with 0 Axes>"
      ]
     },
     "metadata": {},
     "output_type": "display_data"
    }
   ],
   "source": [
    "#Execution time graphic\n",
    "plt.figure(figsize=(12, 5))\n",
    "plt.plot(num_cores,prom,label=\"Time per core number\")\n",
    "plt.xlim(0,128)\n",
    "plt.ylim(150,510)\n",
    "plt.title(\"G-SAIP Execution Times\");\n",
    "plt.xlabel(\"Threads\");\n",
    "plt.ylabel(\"Time [S]\");\n",
    "plt.legend();\n",
    "plt.show();\n",
    "plt.savefig('ExeTimes.png',dpi=300);"
   ]
  },
  {
   "cell_type": "code",
   "execution_count": 6,
   "metadata": {},
   "outputs": [
    {
     "data": {
      "image/png": "[encoded data removed]",
      "text/plain": [
       "<Figure size 864x360 with 1 Axes>"
      ]
     },
     "metadata": {},
     "output_type": "display_data"
    },
    {
     "data": {
      "text/plain": [
       "<Figure size 432x288 with 0 Axes>"
      ]
     },
     "metadata": {},
     "output_type": "display_data"
    }
   ],
   "source": [
    "#Speed-up graphic\n",
    "acel=prom[0]/prom\n",
    "plt.figure(figsize=(12, 5))\n",
    "plt.plot(num_cores,acel,label=\"Speed up core number\")\n",
    "plt.xlim(0,128)\n",
    "plt.ylim(0.8,2.75)\n",
    "plt.title(\"G-SAIP Algorithm Speed-up\");\n",
    "plt.xlabel(\"Threads\");\n",
    "plt.ylabel(\"Speed up [Times]\");\n",
    "plt.legend();\n",
    "plt.show();\n",
    "plt.savefig('SpeedUp.png',dpi=300)"
   ]
  },
  {
   "cell_type": "code",
   "execution_count": null,
   "metadata": {},
   "outputs": [],
   "source": []
  }
 ],
 "metadata": {
  "kernelspec": {
   "display_name": "Python 3",
   "language": "python",
   "name": "python3"
  },
  "language_info": {
   "codemirror_mode": {
    "name": "ipython",
    "version": 3
   },
   "file_extension": ".py",
   "mimetype": "text/x-python",
   "name": "python",
   "nbconvert_exporter": "python",
   "pygments_lexer": "ipython3",
   "version": "3.7.6"
  }
 },
 "nbformat": 4,
 "nbformat_minor": 4
}
